{
 "cells": [
  {
   "cell_type": "code",
   "execution_count": 3,
   "id": "31471bbc",
   "metadata": {},
   "outputs": [
    {
     "name": "stdout",
     "output_type": "stream",
     "text": [
      "   station        Date  Present_Tmax  Present_Tmin  LDAPS_RHmin  LDAPS_RHmax  \\\n",
      "0      1.0  30-06-2013          28.7          21.4    58.255688    91.116364   \n",
      "1      2.0  30-06-2013          31.9          21.6    52.263397    90.604721   \n",
      "2      3.0  30-06-2013          31.6          23.3    48.690479    83.973587   \n",
      "3      4.0  30-06-2013          32.0          23.4    58.239788    96.483688   \n",
      "4      5.0  30-06-2013          31.4          21.9    56.174095    90.155128   \n",
      "\n",
      "   LDAPS_Tmax_lapse  LDAPS_Tmin_lapse  LDAPS_WS    LDAPS_LH  ...  LDAPS_PPT2  \\\n",
      "0         28.074101         23.006936  6.818887   69.451805  ...         0.0   \n",
      "1         29.850689         24.035009  5.691890   51.937448  ...         0.0   \n",
      "2         30.091292         24.565633  6.138224   20.573050  ...         0.0   \n",
      "3         29.704629         23.326177  5.650050   65.727144  ...         0.0   \n",
      "4         29.113934         23.486480  5.735004  107.965535  ...         0.0   \n",
      "\n",
      "   LDAPS_PPT3  LDAPS_PPT4      lat      lon       DEM   Slope  \\\n",
      "0         0.0         0.0  37.6046  126.991  212.3350  2.7850   \n",
      "1         0.0         0.0  37.6046  127.032   44.7624  0.5141   \n",
      "2         0.0         0.0  37.5776  127.058   33.3068  0.2661   \n",
      "3         0.0         0.0  37.6450  127.022   45.7160  2.5348   \n",
      "4         0.0         0.0  37.5507  127.135   35.0380  0.5055   \n",
      "\n",
      "   Solar radiation  Next_Tmax  Next_Tmin  \n",
      "0      5992.895996       29.1       21.2  \n",
      "1      5869.312500       30.5       22.5  \n",
      "2      5863.555664       31.1       23.9  \n",
      "3      5856.964844       31.7       24.3  \n",
      "4      5859.552246       31.2       22.5  \n",
      "\n",
      "[5 rows x 25 columns]\n",
      "<class 'pandas.core.frame.DataFrame'>\n",
      "RangeIndex: 7752 entries, 0 to 7751\n",
      "Data columns (total 25 columns):\n",
      " #   Column            Non-Null Count  Dtype  \n",
      "---  ------            --------------  -----  \n",
      " 0   station           7750 non-null   float64\n",
      " 1   Date              7750 non-null   object \n",
      " 2   Present_Tmax      7682 non-null   float64\n",
      " 3   Present_Tmin      7682 non-null   float64\n",
      " 4   LDAPS_RHmin       7677 non-null   float64\n",
      " 5   LDAPS_RHmax       7677 non-null   float64\n",
      " 6   LDAPS_Tmax_lapse  7677 non-null   float64\n",
      " 7   LDAPS_Tmin_lapse  7677 non-null   float64\n",
      " 8   LDAPS_WS          7677 non-null   float64\n",
      " 9   LDAPS_LH          7677 non-null   float64\n",
      " 10  LDAPS_CC1         7677 non-null   float64\n",
      " 11  LDAPS_CC2         7677 non-null   float64\n",
      " 12  LDAPS_CC3         7677 non-null   float64\n",
      " 13  LDAPS_CC4         7677 non-null   float64\n",
      " 14  LDAPS_PPT1        7677 non-null   float64\n",
      " 15  LDAPS_PPT2        7677 non-null   float64\n",
      " 16  LDAPS_PPT3        7677 non-null   float64\n",
      " 17  LDAPS_PPT4        7677 non-null   float64\n",
      " 18  lat               7752 non-null   float64\n",
      " 19  lon               7752 non-null   float64\n",
      " 20  DEM               7752 non-null   float64\n",
      " 21  Slope             7752 non-null   float64\n",
      " 22  Solar radiation   7752 non-null   float64\n",
      " 23  Next_Tmax         7725 non-null   float64\n",
      " 24  Next_Tmin         7725 non-null   float64\n",
      "dtypes: float64(24), object(1)\n",
      "memory usage: 1.5+ MB\n",
      "None\n"
     ]
    }
   ],
   "source": [
    "import pandas as pd\n",
    "\n",
    "# Load the dataset\n",
    "dataset_url = \"https://raw.githubusercontent.com/dsrscientist/Dataset2/main/temperature.csv\"\n",
    "temperature_data = pd.read_csv(dataset_url)\n",
    "\n",
    "# Display the first few rows of the dataset\n",
    "print(temperature_data.head())\n",
    "\n",
    "# Check for missing values and data types\n",
    "print(temperature_data.info())\n"
   ]
  },
  {
   "cell_type": "code",
   "execution_count": null,
   "id": "7f069306",
   "metadata": {},
   "outputs": [],
   "source": []
  }
 ],
 "metadata": {
  "kernelspec": {
   "display_name": "Python 3 (ipykernel)",
   "language": "python",
   "name": "python3"
  },
  "language_info": {
   "codemirror_mode": {
    "name": "ipython",
    "version": 3
   },
   "file_extension": ".py",
   "mimetype": "text/x-python",
   "name": "python",
   "nbconvert_exporter": "python",
   "pygments_lexer": "ipython3",
   "version": "3.10.9"
  }
 },
 "nbformat": 4,
 "nbformat_minor": 5
}
